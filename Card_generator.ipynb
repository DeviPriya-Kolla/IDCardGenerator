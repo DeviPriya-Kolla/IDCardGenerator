{
 "cells": [
  {
   "cell_type": "code",
   "execution_count": 1,
   "id": "a922f987",
   "metadata": {},
   "outputs": [
    {
     "name": "stdout",
     "output_type": "stream",
     "text": [
      "Requirement already satisfied: reportlab in ./anaconda3/lib/python3.11/site-packages (4.2.0)\n",
      "Requirement already satisfied: pillow>=9.0.0 in ./anaconda3/lib/python3.11/site-packages (from reportlab) (9.4.0)\n",
      "Requirement already satisfied: chardet in ./anaconda3/lib/python3.11/site-packages (from reportlab) (4.0.0)\n"
     ]
    }
   ],
   "source": [
    "!pip install reportlab"
   ]
  },
  {
   "cell_type": "code",
   "execution_count": 2,
   "id": "d4b0d55f",
   "metadata": {},
   "outputs": [],
   "source": [
    "import os \n",
    "import pandas as pd\n",
    "from PIL import Image, ImageDraw, ImageFont\n",
    "from reportlab.pdfgen import canvas\n",
    "     "
   ]
  },
  {
   "cell_type": "code",
   "execution_count": 8,
   "id": "32613b47",
   "metadata": {},
   "outputs": [],
   "source": [
    "CSV_FILE = 'employee.csv'\n",
    "TEMPLATE_IMAGE = 'ute_id_template.png'\n",
    "PHOTOS_DIR = 'photos/photos'\n",
    "OUTPUT_PDF = 'id_cards.pdf'\n",
    "     "
   ]
  },
  {
   "cell_type": "code",
   "execution_count": 9,
   "id": "d2f2e934",
   "metadata": {},
   "outputs": [],
   "source": [
    "import os\n",
    "from PIL import Image, ImageDraw, ImageFont\n",
    "\n",
    "\n",
    "def create_id_card(template, name, title, photo_filename):\n",
    "    \n",
    "    # Construct the photo path using os.path.join\n",
    "    photo_path = os.path.join(PHOTOS_DIR, photo_filename)  # Use the filename from the CSV\n",
    "    # Load the template and photo\n",
    "    template_img = Image.open(template).convert('RGBA')\n",
    "    # Check if the photo exists before opening\n",
    "    if not os.path.exists(photo_path):\n",
    "        raise FileNotFoundError(f\"Photo file '{photo_path}' not found.\")\n",
    "    \n",
    "    # Open and resize the photo\n",
    "    photo_img = Image.open(photo_path).resize((150, 150))  # Adjust size as needed\n",
    "    \n",
    "    # Paste the photo onto the template\n",
    "    template_img.paste(photo_img, (150, 8))  # Adjust position as needed\n",
    "    \n",
    "    # Use PIL to write text onto the template\n",
    "    draw = ImageDraw.Draw(template_img)\n",
    "    font = ImageFont.load_default()\n",
    "\n",
    "    # Draw text\n",
    "    draw.text((170, 170), f\"Name: {name}\", font=font, fill='black')\n",
    "    draw.text((170, 180), f\"Title: {title}\", font=font, fill='black')\n",
    "    \n",
    "    # Return the modified template\n",
    "    return template_img\n"
   ]
  },
  {
   "cell_type": "code",
   "execution_count": 10,
   "id": "a9549c82",
   "metadata": {},
   "outputs": [
    {
     "name": "stdout",
     "output_type": "stream",
     "text": [
      "Name                 stark\n",
      "Title    Senior Researcher\n",
      "photo                1.png\n",
      "Name: 0, dtype: object\n",
      "Name               sansa\n",
      "Title    General Manager\n",
      "photo              2.png\n",
      "Name: 1, dtype: object\n",
      "Name               arya\n",
      "Title    Hiring Manager\n",
      "photo             3.png\n",
      "Name: 2, dtype: object\n",
      "Name              cathy\n",
      "Title    Junior Analyst\n",
      "photo             4.png\n",
      "Name: 3, dtype: object\n",
      "Name                theon\n",
      "Title    Senior Developer\n",
      "photo               5.png\n",
      "Name: 4, dtype: object\n",
      "Name                   bran\n",
      "Title    Software Developer\n",
      "photo                 6.png\n",
      "Name: 5, dtype: object\n",
      "Name          mike\n",
      "Title    Tech Lead\n",
      "photo        7.png\n",
      "Name: 6, dtype: object\n",
      "Name                  nancy\n",
      "Title    Managing  Director\n",
      "photo                 8.png\n",
      "Name: 7, dtype: object\n",
      "Name                lilly\n",
      "Title    Junior Developer\n",
      "photo               9.png\n",
      "Name: 8, dtype: object\n",
      "Name                   joe\n",
      "Title    Executive Officer\n",
      "photo               10.png\n",
      "Name: 9, dtype: object\n",
      "All ID cards have been generated into a single PDF.\n"
     ]
    }
   ],
   "source": [
    "def main():\n",
    "    # Read CSV file\n",
    "    df = pd.read_csv(CSV_FILE)\n",
    "\n",
    "    # Prepare PDF\n",
    "    c = canvas.Canvas(OUTPUT_PDF, pagesize=(640, 400))  # Adjust pagesize to fit the ID card size\n",
    "\n",
    "    count = 1\n",
    "    # Create ID cards\n",
    "    for _, row in df.iterrows():\n",
    "        print(row)\n",
    "        img = create_id_card(TEMPLATE_IMAGE, row['Name'], row['Title'], row['photo'])\n",
    "        # Save to a temporary image file\n",
    "        img.save(f'temp_id{count}.png', 'PNG')\n",
    "        # Draw this image onto the PDF\n",
    "        c.drawImage(f'temp_id{count}.png', 0, 0, 640, 400)  # Match pagesize\n",
    "        count = count + 1\n",
    "        c.showPage()\n",
    "\n",
    "    # Save the PDF\n",
    "    c.save()\n",
    "    print(\"All ID cards have been generated into a single PDF.\")\n",
    "\n",
    "if __name__ == '__main__':\n",
    "    main()"
   ]
  },
  {
   "cell_type": "code",
   "execution_count": null,
   "id": "14e335fd",
   "metadata": {},
   "outputs": [],
   "source": []
  }
 ],
 "metadata": {
  "kernelspec": {
   "display_name": "Python 3 (ipykernel)",
   "language": "python",
   "name": "python3"
  },
  "language_info": {
   "codemirror_mode": {
    "name": "ipython",
    "version": 3
   },
   "file_extension": ".py",
   "mimetype": "text/x-python",
   "name": "python",
   "nbconvert_exporter": "python",
   "pygments_lexer": "ipython3",
   "version": "3.11.5"
  }
 },
 "nbformat": 4,
 "nbformat_minor": 5
}
